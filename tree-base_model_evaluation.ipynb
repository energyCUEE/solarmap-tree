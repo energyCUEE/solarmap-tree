{
 "cells": [
  {
   "cell_type": "markdown",
   "metadata": {},
   "source": [
    "# Evaluation of machine learning models\n",
    "\n",
    "Overall deterministic performance is evaluated by the root mean square error (RMSE) between the estimated irradiance and measurements. We benchmark top three models against each other, i.e., extra tree, random forest, and lightGBM, on a clear sky, partly cloudy, and cloudy sky conditions, and in midday and morning and evening data\n",
    "\n",
    "- The inputs files of this notebook are the estimated irradiance values from each model, including three models:\n",
    "    - Extra Trees model: `Ihat_et_test_set.csv`\n",
    "    - LightGBM model: `Ihat_lightgbm_v2_test_set.csv`\n",
    "    - Random Forest model: `Ihat_rf_test_set.csv`"
   ]
  },
  {
   "cell_type": "markdown",
   "metadata": {},
   "source": [
    "## Error metric of extra tree model"
   ]
  },
  {
   "cell_type": "code",
   "execution_count": 2,
   "metadata": {
    "ExecuteTime": {
     "end_time": "2024-02-18T07:36:35.659610Z",
     "start_time": "2024-02-18T07:36:33.036353Z"
    }
   },
   "outputs": [
    {
     "data": {
      "text/plain": "                        Datetime        Iclr        CI         R      latt  \\\n0      2022-04-05 07:00:00+07:00  141.241660  0.090196  0.203922  14.00523   \n1      2022-04-05 07:15:00+07:00  209.518060  0.090196  0.203922  14.00523   \n2      2022-04-05 07:30:00+07:00  278.611744  0.141176  0.298039  14.00523   \n3      2022-04-05 07:45:00+07:00  347.292820  0.141176  0.298039  14.00523   \n4      2022-04-05 08:00:00+07:00  414.830234  0.172549  0.576471  14.00523   \n...                          ...         ...       ...       ...       ...   \n347118 2023-06-22 16:00:00+07:00  660.558000  0.023529  0.282353  13.50130   \n347119 2023-06-22 16:15:00+07:00  603.006077  0.023529  0.282353  13.50130   \n347120 2023-06-22 16:30:00+07:00  543.148095  0.023529  0.235294  13.50130   \n347121 2023-06-22 16:45:00+07:00  481.265865  0.023529  0.235294  13.50130   \n347122 2023-06-22 17:00:00+07:00  417.664271  0.019608  0.243137  13.50130   \n\n              long       I_hat site_name         I        Date  hour  \\\n0       100.519403  124.756089    ISL001  183.5975  2022-04-05     7   \n1       100.519403  167.423803    ISL001  240.5533  2022-04-05     7   \n2       100.519403  219.568249    ISL001  164.2464  2022-04-05     7   \n3       100.519403  274.106907    ISL001  176.0619  2022-04-05     7   \n4       100.519403  216.567147    ISL001  261.4042  2022-04-05     8   \n...            ...         ...       ...       ...         ...   ...   \n347118  100.135400  445.418153    ISL056  473.4280  2023-06-22    16   \n347119  100.135400  414.548652    ISL056  418.3324  2023-06-22    16   \n347120  100.135400  403.044291    ISL056  367.2727  2023-06-22    16   \n347121  100.135400  365.116572    ISL056  311.9268  2023-06-22    16   \n347122  100.135400  276.616569    ISL056  241.7198  2023-06-22    17   \n\n               k     k_bar sky_condition    R_clusters hour_clusters  \n0       1.299882  0.695748         clear     Low cloud    non-midday  \n1       1.148127  0.695748         clear     Low cloud    non-midday  \n2       0.589517  0.695748         clear     Low cloud    non-midday  \n3       0.506955  0.695748         clear     Low cloud    non-midday  \n4       0.630147  0.695748         clear  Medium cloud    non-midday  \n...          ...       ...           ...           ...           ...  \n347118  0.716709  0.742820         clear     Low cloud    non-midday  \n347119  0.693745  0.742820         clear     Low cloud    non-midday  \n347120  0.676193  0.742820         clear     Low cloud    non-midday  \n347121  0.648138  0.742820         clear     Low cloud    non-midday  \n347122  0.578742  0.742820         clear     Low cloud    non-midday  \n\n[347123 rows x 16 columns]",
      "text/html": "<div>\n<style scoped>\n    .dataframe tbody tr th:only-of-type {\n        vertical-align: middle;\n    }\n\n    .dataframe tbody tr th {\n        vertical-align: top;\n    }\n\n    .dataframe thead th {\n        text-align: right;\n    }\n</style>\n<table border=\"1\" class=\"dataframe\">\n  <thead>\n    <tr style=\"text-align: right;\">\n      <th></th>\n      <th>Datetime</th>\n      <th>Iclr</th>\n      <th>CI</th>\n      <th>R</th>\n      <th>latt</th>\n      <th>long</th>\n      <th>I_hat</th>\n      <th>site_name</th>\n      <th>I</th>\n      <th>Date</th>\n      <th>hour</th>\n      <th>k</th>\n      <th>k_bar</th>\n      <th>sky_condition</th>\n      <th>R_clusters</th>\n      <th>hour_clusters</th>\n    </tr>\n  </thead>\n  <tbody>\n    <tr>\n      <th>0</th>\n      <td>2022-04-05 07:00:00+07:00</td>\n      <td>141.241660</td>\n      <td>0.090196</td>\n      <td>0.203922</td>\n      <td>14.00523</td>\n      <td>100.519403</td>\n      <td>124.756089</td>\n      <td>ISL001</td>\n      <td>183.5975</td>\n      <td>2022-04-05</td>\n      <td>7</td>\n      <td>1.299882</td>\n      <td>0.695748</td>\n      <td>clear</td>\n      <td>Low cloud</td>\n      <td>non-midday</td>\n    </tr>\n    <tr>\n      <th>1</th>\n      <td>2022-04-05 07:15:00+07:00</td>\n      <td>209.518060</td>\n      <td>0.090196</td>\n      <td>0.203922</td>\n      <td>14.00523</td>\n      <td>100.519403</td>\n      <td>167.423803</td>\n      <td>ISL001</td>\n      <td>240.5533</td>\n      <td>2022-04-05</td>\n      <td>7</td>\n      <td>1.148127</td>\n      <td>0.695748</td>\n      <td>clear</td>\n      <td>Low cloud</td>\n      <td>non-midday</td>\n    </tr>\n    <tr>\n      <th>2</th>\n      <td>2022-04-05 07:30:00+07:00</td>\n      <td>278.611744</td>\n      <td>0.141176</td>\n      <td>0.298039</td>\n      <td>14.00523</td>\n      <td>100.519403</td>\n      <td>219.568249</td>\n      <td>ISL001</td>\n      <td>164.2464</td>\n      <td>2022-04-05</td>\n      <td>7</td>\n      <td>0.589517</td>\n      <td>0.695748</td>\n      <td>clear</td>\n      <td>Low cloud</td>\n      <td>non-midday</td>\n    </tr>\n    <tr>\n      <th>3</th>\n      <td>2022-04-05 07:45:00+07:00</td>\n      <td>347.292820</td>\n      <td>0.141176</td>\n      <td>0.298039</td>\n      <td>14.00523</td>\n      <td>100.519403</td>\n      <td>274.106907</td>\n      <td>ISL001</td>\n      <td>176.0619</td>\n      <td>2022-04-05</td>\n      <td>7</td>\n      <td>0.506955</td>\n      <td>0.695748</td>\n      <td>clear</td>\n      <td>Low cloud</td>\n      <td>non-midday</td>\n    </tr>\n    <tr>\n      <th>4</th>\n      <td>2022-04-05 08:00:00+07:00</td>\n      <td>414.830234</td>\n      <td>0.172549</td>\n      <td>0.576471</td>\n      <td>14.00523</td>\n      <td>100.519403</td>\n      <td>216.567147</td>\n      <td>ISL001</td>\n      <td>261.4042</td>\n      <td>2022-04-05</td>\n      <td>8</td>\n      <td>0.630147</td>\n      <td>0.695748</td>\n      <td>clear</td>\n      <td>Medium cloud</td>\n      <td>non-midday</td>\n    </tr>\n    <tr>\n      <th>...</th>\n      <td>...</td>\n      <td>...</td>\n      <td>...</td>\n      <td>...</td>\n      <td>...</td>\n      <td>...</td>\n      <td>...</td>\n      <td>...</td>\n      <td>...</td>\n      <td>...</td>\n      <td>...</td>\n      <td>...</td>\n      <td>...</td>\n      <td>...</td>\n      <td>...</td>\n      <td>...</td>\n    </tr>\n    <tr>\n      <th>347118</th>\n      <td>2023-06-22 16:00:00+07:00</td>\n      <td>660.558000</td>\n      <td>0.023529</td>\n      <td>0.282353</td>\n      <td>13.50130</td>\n      <td>100.135400</td>\n      <td>445.418153</td>\n      <td>ISL056</td>\n      <td>473.4280</td>\n      <td>2023-06-22</td>\n      <td>16</td>\n      <td>0.716709</td>\n      <td>0.742820</td>\n      <td>clear</td>\n      <td>Low cloud</td>\n      <td>non-midday</td>\n    </tr>\n    <tr>\n      <th>347119</th>\n      <td>2023-06-22 16:15:00+07:00</td>\n      <td>603.006077</td>\n      <td>0.023529</td>\n      <td>0.282353</td>\n      <td>13.50130</td>\n      <td>100.135400</td>\n      <td>414.548652</td>\n      <td>ISL056</td>\n      <td>418.3324</td>\n      <td>2023-06-22</td>\n      <td>16</td>\n      <td>0.693745</td>\n      <td>0.742820</td>\n      <td>clear</td>\n      <td>Low cloud</td>\n      <td>non-midday</td>\n    </tr>\n    <tr>\n      <th>347120</th>\n      <td>2023-06-22 16:30:00+07:00</td>\n      <td>543.148095</td>\n      <td>0.023529</td>\n      <td>0.235294</td>\n      <td>13.50130</td>\n      <td>100.135400</td>\n      <td>403.044291</td>\n      <td>ISL056</td>\n      <td>367.2727</td>\n      <td>2023-06-22</td>\n      <td>16</td>\n      <td>0.676193</td>\n      <td>0.742820</td>\n      <td>clear</td>\n      <td>Low cloud</td>\n      <td>non-midday</td>\n    </tr>\n    <tr>\n      <th>347121</th>\n      <td>2023-06-22 16:45:00+07:00</td>\n      <td>481.265865</td>\n      <td>0.023529</td>\n      <td>0.235294</td>\n      <td>13.50130</td>\n      <td>100.135400</td>\n      <td>365.116572</td>\n      <td>ISL056</td>\n      <td>311.9268</td>\n      <td>2023-06-22</td>\n      <td>16</td>\n      <td>0.648138</td>\n      <td>0.742820</td>\n      <td>clear</td>\n      <td>Low cloud</td>\n      <td>non-midday</td>\n    </tr>\n    <tr>\n      <th>347122</th>\n      <td>2023-06-22 17:00:00+07:00</td>\n      <td>417.664271</td>\n      <td>0.019608</td>\n      <td>0.243137</td>\n      <td>13.50130</td>\n      <td>100.135400</td>\n      <td>276.616569</td>\n      <td>ISL056</td>\n      <td>241.7198</td>\n      <td>2023-06-22</td>\n      <td>17</td>\n      <td>0.578742</td>\n      <td>0.742820</td>\n      <td>clear</td>\n      <td>Low cloud</td>\n      <td>non-midday</td>\n    </tr>\n  </tbody>\n</table>\n<p>347123 rows × 16 columns</p>\n</div>"
     },
     "execution_count": 2,
     "metadata": {},
     "output_type": "execute_result"
    }
   ],
   "source": [
    "import pandas as pd\n",
    "\n",
    "et = pd.read_csv('exp_results/Ihat_et_test_set.csv', parse_dates=['Datetime'], usecols=lambda x: x not in ['condition', 'hour_encode1','day','month'])\n",
    "et['k'] = et['I'] / et['Iclr']\n",
    "et['CI'] = et['CI']/255\n",
    "et['R'] = et['R']/255\n",
    "\n",
    "# create K_bar in each day and each site\n",
    "kmean = et[['site_name','Date','k']].groupby(by=[et.Date,'site_name']).mean(numeric_only=True)\n",
    "kmean = kmean.reset_index(level=1)\n",
    "kmean.reset_index(inplace=True)\n",
    "kmean = kmean.rename(columns={'index':'Date','k':'k_bar'})\n",
    "kmean = pd.merge(et,kmean,on=['Date','site_name'],how='left')\n",
    "kmean.index = et.index\n",
    "\n",
    "et['k_bar'] = kmean.k_bar\n",
    "et['sky_condition'] = et['k_bar'].apply(lambda x: 'cloudy' if x < 0.3 else ('partly_cloudy' if x < 0.6 else 'clear'))\n",
    "et['R_clusters'] = et['R'].apply(lambda x: 'Low cloud' if x < 0.3 else ('Medium cloud' if x < 0.6 else 'High cloud'))\n",
    "et['hour_clusters'] = et['hour'].apply(lambda x: 'midday' if 10 <= x <= 15 else 'non-midday')\n",
    "et"
   ]
  },
  {
   "cell_type": "code",
   "execution_count": 3,
   "metadata": {
    "ExecuteTime": {
     "end_time": "2024-02-18T07:39:03.626623Z",
     "start_time": "2024-02-18T07:39:02.511259Z"
    }
   },
   "outputs": [
    {
     "name": "stdout",
     "output_type": "stream",
     "text": [
      "\n",
      "RMSE midday clear =  142.25515294793243\n",
      "RMSE midday partly cloudy =  188.78495147254395\n",
      "RMSE midday cloudy =  226.36316277723154\n",
      "RMSE non-midday clear =  78.89420615092045\n",
      "RMSE non-midday partly cloudy =  96.8551402828126\n",
      "RMSE non-midday cloudy =  125.359426171013\n",
      "\n",
      "Overall RMSE, MAE\n",
      "RMSE =  134.17406655482537\n",
      "MAE =  90.14430315944504\n",
      "\n",
      "Overall RMSE, MAE by hour_clusters\n",
      "RMSE midday =  159.81484116390953\n",
      "MAE midday =  112.49392621181937\n",
      "RMSE non-midday =  86.05814934016301\n",
      "MAE non-midday =  58.726361097296895\n",
      "\n",
      "Overall RMSE, MAE by sky_condition\n",
      "RMSE clear =  120.04872898384207\n",
      "MAE clear =  79.30483388401967\n",
      "RMSE partly cloudy =  157.24204677045432\n",
      "MAE partly cloudy =  112.51805199840759\n",
      "RMSE cloudy =  191.02152653298117\n",
      "MAE cloudy =  126.51432387790007\n"
     ]
    }
   ],
   "source": [
    "# calculate RMSE of I and I_hat in 3 sky condition and 3 hour_clusters\n",
    "\n",
    "from sklearn.metrics import mean_squared_error, mean_absolute_error\n",
    "from math import sqrt\n",
    "\n",
    "et_midday_clear = et[(et['sky_condition'] == 'clear') & (et['hour_clusters'] == 'midday')]\n",
    "et_midday_partly_cloudy = et[(et['sky_condition'] == 'partly_cloudy') & (et['hour_clusters'] == 'midday')]\n",
    "et_midday_cloudy = et[(et['sky_condition'] == 'cloudy') & (et['hour_clusters'] == 'midday')]\n",
    "\n",
    "et_non_midday_clear = et[(et['sky_condition'] == 'clear') & (et['hour_clusters'] == 'non-midday')]\n",
    "et_non_midday_partly_cloudy = et[(et['sky_condition'] == 'partly_cloudy') & (et['hour_clusters'] == 'non-midday')]\n",
    "et_non_midday_cloudy = et[(et['sky_condition'] == 'cloudy') & (et['hour_clusters'] == 'non-midday')]\n",
    "\n",
    "rmse_et_midday_clear = sqrt(mean_squared_error(et_midday_clear['I'],et_midday_clear['I_hat']))\n",
    "rmse_et_midday_partly_cloudy = sqrt(mean_squared_error(et_midday_partly_cloudy['I'],et_midday_partly_cloudy['I_hat']))\n",
    "rmse_et_midday_cloudy = sqrt(mean_squared_error(et_midday_cloudy['I'],et_midday_cloudy['I_hat']))\n",
    "\n",
    "rmse_et_non_midday_clear = sqrt(mean_squared_error(et_non_midday_clear['I'],et_non_midday_clear['I_hat']))\n",
    "rmse_et_non_midday_partly_cloudy = sqrt(mean_squared_error(et_non_midday_partly_cloudy['I'],et_non_midday_partly_cloudy['I_hat']))\n",
    "rmse_et_non_midday_cloudy = sqrt(mean_squared_error(et_non_midday_cloudy['I'],et_non_midday_cloudy['I_hat']))\n",
    "\n",
    "# print RMSE of I and I_hat in 3 sky condition and 3 hour_clusters\n",
    "print()\n",
    "print('RMSE midday clear = ',rmse_et_midday_clear)\n",
    "print('RMSE midday partly cloudy = ',rmse_et_midday_partly_cloudy)\n",
    "print('RMSE midday cloudy = ',rmse_et_midday_cloudy)\n",
    "print('RMSE non-midday clear = ',rmse_et_non_midday_clear)\n",
    "print('RMSE non-midday partly cloudy = ',rmse_et_non_midday_partly_cloudy)\n",
    "print('RMSE non-midday cloudy = ',rmse_et_non_midday_cloudy)\n",
    "\n",
    "# overall RMSE, MAE\n",
    "rmse_et = sqrt(mean_squared_error(et['I'],et['I_hat']))\n",
    "mae_et = mean_absolute_error(et['I'],et['I_hat'])\n",
    "print()\n",
    "print('Overall RMSE, MAE')\n",
    "print('RMSE = ',rmse_et)\n",
    "print('MAE = ',mae_et)\n",
    "\n",
    "# overall RMSE, MAE by hour_clusters\n",
    "rmse_et_midday = sqrt(mean_squared_error(et[et['hour_clusters'] == 'midday']['I'],et[et['hour_clusters'] == 'midday']['I_hat']))\n",
    "mae_et_midday = mean_absolute_error(et[et['hour_clusters'] == 'midday']['I'],et[et['hour_clusters'] == 'midday']['I_hat'])\n",
    "rmse_et_non_midday = sqrt(mean_squared_error(et[et['hour_clusters'] == 'non-midday']['I'],et[et['hour_clusters'] == 'non-midday']['I_hat']))\n",
    "mae_et_non_midday = mean_absolute_error(et[et['hour_clusters'] == 'non-midday']['I'],et[et['hour_clusters'] == 'non-midday']['I_hat'])\n",
    "print()\n",
    "print('Overall RMSE, MAE by hour_clusters')\n",
    "print('RMSE midday = ',rmse_et_midday)\n",
    "print('MAE midday = ',mae_et_midday)\n",
    "print('RMSE non-midday = ',rmse_et_non_midday)\n",
    "print('MAE non-midday = ',mae_et_non_midday)\n",
    "\n",
    "# overall RMSE, MAE by sky_condition\n",
    "rmse_et_clear = sqrt(mean_squared_error(et[et['sky_condition'] == 'clear']['I'],et[et['sky_condition'] == 'clear']['I_hat']))\n",
    "mae_et_clear = mean_absolute_error(et[et['sky_condition'] == 'clear']['I'],et[et['sky_condition'] == 'clear']['I_hat'])\n",
    "rmse_et_partly_cloudy = sqrt(mean_squared_error(et[et['sky_condition'] == 'partly_cloudy']['I'],et[et['sky_condition'] == 'partly_cloudy']['I_hat']))\n",
    "mae_et_partly_cloudy = mean_absolute_error(et[et['sky_condition'] == 'partly_cloudy']['I'],et[et['sky_condition'] == 'partly_cloudy']['I_hat'])\n",
    "rmse_et_cloudy = sqrt(mean_squared_error(et[et['sky_condition'] == 'cloudy']['I'],et[et['sky_condition'] == 'cloudy']['I_hat']))\n",
    "mae_et_cloudy = mean_absolute_error(et[et['sky_condition'] == 'cloudy']['I'],et[et['sky_condition'] == 'cloudy']['I_hat'])\n",
    "print()\n",
    "print('Overall RMSE, MAE by sky_condition')\n",
    "print('RMSE clear = ',rmse_et_clear)\n",
    "print('MAE clear = ',mae_et_clear)\n",
    "print('RMSE partly cloudy = ',rmse_et_partly_cloudy)\n",
    "print('MAE partly cloudy = ',mae_et_partly_cloudy)\n",
    "print('RMSE cloudy = ',rmse_et_cloudy)\n",
    "print('MAE cloudy = ',mae_et_cloudy)\n"
   ]
  },
  {
   "cell_type": "markdown",
   "metadata": {},
   "source": [
    "## Error metric of lightGBM model"
   ]
  },
  {
   "cell_type": "code",
   "execution_count": 4,
   "metadata": {
    "ExecuteTime": {
     "end_time": "2024-02-18T07:39:23.234395Z",
     "start_time": "2024-02-18T07:39:20.626686Z"
    }
   },
   "outputs": [
    {
     "data": {
      "text/plain": "                        Datetime        Iclr        CI         R      latt  \\\n0      2022-04-05 07:00:00+07:00  141.241660  0.090196  0.203922  14.00523   \n1      2022-04-05 07:15:00+07:00  209.518060  0.090196  0.203922  14.00523   \n2      2022-04-05 07:30:00+07:00  278.611744  0.141176  0.298039  14.00523   \n3      2022-04-05 07:45:00+07:00  347.292820  0.141176  0.298039  14.00523   \n4      2022-04-05 08:00:00+07:00  414.830234  0.172549  0.576471  14.00523   \n...                          ...         ...       ...       ...       ...   \n347118 2023-06-22 16:00:00+07:00  660.558000  0.023529  0.282353  13.50130   \n347119 2023-06-22 16:15:00+07:00  603.006077  0.023529  0.282353  13.50130   \n347120 2023-06-22 16:30:00+07:00  543.148095  0.023529  0.235294  13.50130   \n347121 2023-06-22 16:45:00+07:00  481.265865  0.023529  0.235294  13.50130   \n347122 2023-06-22 17:00:00+07:00  417.664271  0.019608  0.243137  13.50130   \n\n              long       I_hat site_name         I        Date  hour  \\\n0       100.519403  135.068489    ISL001  183.5975  2022-04-05     7   \n1       100.519403  176.325925    ISL001  240.5533  2022-04-05     7   \n2       100.519403  220.197368    ISL001  164.2464  2022-04-05     7   \n3       100.519403  284.082731    ISL001  176.0619  2022-04-05     7   \n4       100.519403  241.438227    ISL001  261.4042  2022-04-05     8   \n...            ...         ...       ...       ...         ...   ...   \n347118  100.135400  477.429517    ISL056  473.4280  2023-06-22    16   \n347119  100.135400  439.760874    ISL056  418.3324  2023-06-22    16   \n347120  100.135400  404.229601    ISL056  367.2727  2023-06-22    16   \n347121  100.135400  333.382894    ISL056  311.9268  2023-06-22    16   \n347122  100.135400  265.615033    ISL056  241.7198  2023-06-22    17   \n\n               k     k_bar sky_condition    R_clusters hour_clusters  \n0       1.299882  0.695748         clear     Low cloud    non-midday  \n1       1.148127  0.695748         clear     Low cloud    non-midday  \n2       0.589517  0.695748         clear     Low cloud    non-midday  \n3       0.506955  0.695748         clear     Low cloud    non-midday  \n4       0.630147  0.695748         clear  Medium cloud    non-midday  \n...          ...       ...           ...           ...           ...  \n347118  0.716709  0.742820         clear     Low cloud    non-midday  \n347119  0.693745  0.742820         clear     Low cloud    non-midday  \n347120  0.676193  0.742820         clear     Low cloud    non-midday  \n347121  0.648138  0.742820         clear     Low cloud    non-midday  \n347122  0.578742  0.742820         clear     Low cloud    non-midday  \n\n[347123 rows x 16 columns]",
      "text/html": "<div>\n<style scoped>\n    .dataframe tbody tr th:only-of-type {\n        vertical-align: middle;\n    }\n\n    .dataframe tbody tr th {\n        vertical-align: top;\n    }\n\n    .dataframe thead th {\n        text-align: right;\n    }\n</style>\n<table border=\"1\" class=\"dataframe\">\n  <thead>\n    <tr style=\"text-align: right;\">\n      <th></th>\n      <th>Datetime</th>\n      <th>Iclr</th>\n      <th>CI</th>\n      <th>R</th>\n      <th>latt</th>\n      <th>long</th>\n      <th>I_hat</th>\n      <th>site_name</th>\n      <th>I</th>\n      <th>Date</th>\n      <th>hour</th>\n      <th>k</th>\n      <th>k_bar</th>\n      <th>sky_condition</th>\n      <th>R_clusters</th>\n      <th>hour_clusters</th>\n    </tr>\n  </thead>\n  <tbody>\n    <tr>\n      <th>0</th>\n      <td>2022-04-05 07:00:00+07:00</td>\n      <td>141.241660</td>\n      <td>0.090196</td>\n      <td>0.203922</td>\n      <td>14.00523</td>\n      <td>100.519403</td>\n      <td>135.068489</td>\n      <td>ISL001</td>\n      <td>183.5975</td>\n      <td>2022-04-05</td>\n      <td>7</td>\n      <td>1.299882</td>\n      <td>0.695748</td>\n      <td>clear</td>\n      <td>Low cloud</td>\n      <td>non-midday</td>\n    </tr>\n    <tr>\n      <th>1</th>\n      <td>2022-04-05 07:15:00+07:00</td>\n      <td>209.518060</td>\n      <td>0.090196</td>\n      <td>0.203922</td>\n      <td>14.00523</td>\n      <td>100.519403</td>\n      <td>176.325925</td>\n      <td>ISL001</td>\n      <td>240.5533</td>\n      <td>2022-04-05</td>\n      <td>7</td>\n      <td>1.148127</td>\n      <td>0.695748</td>\n      <td>clear</td>\n      <td>Low cloud</td>\n      <td>non-midday</td>\n    </tr>\n    <tr>\n      <th>2</th>\n      <td>2022-04-05 07:30:00+07:00</td>\n      <td>278.611744</td>\n      <td>0.141176</td>\n      <td>0.298039</td>\n      <td>14.00523</td>\n      <td>100.519403</td>\n      <td>220.197368</td>\n      <td>ISL001</td>\n      <td>164.2464</td>\n      <td>2022-04-05</td>\n      <td>7</td>\n      <td>0.589517</td>\n      <td>0.695748</td>\n      <td>clear</td>\n      <td>Low cloud</td>\n      <td>non-midday</td>\n    </tr>\n    <tr>\n      <th>3</th>\n      <td>2022-04-05 07:45:00+07:00</td>\n      <td>347.292820</td>\n      <td>0.141176</td>\n      <td>0.298039</td>\n      <td>14.00523</td>\n      <td>100.519403</td>\n      <td>284.082731</td>\n      <td>ISL001</td>\n      <td>176.0619</td>\n      <td>2022-04-05</td>\n      <td>7</td>\n      <td>0.506955</td>\n      <td>0.695748</td>\n      <td>clear</td>\n      <td>Low cloud</td>\n      <td>non-midday</td>\n    </tr>\n    <tr>\n      <th>4</th>\n      <td>2022-04-05 08:00:00+07:00</td>\n      <td>414.830234</td>\n      <td>0.172549</td>\n      <td>0.576471</td>\n      <td>14.00523</td>\n      <td>100.519403</td>\n      <td>241.438227</td>\n      <td>ISL001</td>\n      <td>261.4042</td>\n      <td>2022-04-05</td>\n      <td>8</td>\n      <td>0.630147</td>\n      <td>0.695748</td>\n      <td>clear</td>\n      <td>Medium cloud</td>\n      <td>non-midday</td>\n    </tr>\n    <tr>\n      <th>...</th>\n      <td>...</td>\n      <td>...</td>\n      <td>...</td>\n      <td>...</td>\n      <td>...</td>\n      <td>...</td>\n      <td>...</td>\n      <td>...</td>\n      <td>...</td>\n      <td>...</td>\n      <td>...</td>\n      <td>...</td>\n      <td>...</td>\n      <td>...</td>\n      <td>...</td>\n      <td>...</td>\n    </tr>\n    <tr>\n      <th>347118</th>\n      <td>2023-06-22 16:00:00+07:00</td>\n      <td>660.558000</td>\n      <td>0.023529</td>\n      <td>0.282353</td>\n      <td>13.50130</td>\n      <td>100.135400</td>\n      <td>477.429517</td>\n      <td>ISL056</td>\n      <td>473.4280</td>\n      <td>2023-06-22</td>\n      <td>16</td>\n      <td>0.716709</td>\n      <td>0.742820</td>\n      <td>clear</td>\n      <td>Low cloud</td>\n      <td>non-midday</td>\n    </tr>\n    <tr>\n      <th>347119</th>\n      <td>2023-06-22 16:15:00+07:00</td>\n      <td>603.006077</td>\n      <td>0.023529</td>\n      <td>0.282353</td>\n      <td>13.50130</td>\n      <td>100.135400</td>\n      <td>439.760874</td>\n      <td>ISL056</td>\n      <td>418.3324</td>\n      <td>2023-06-22</td>\n      <td>16</td>\n      <td>0.693745</td>\n      <td>0.742820</td>\n      <td>clear</td>\n      <td>Low cloud</td>\n      <td>non-midday</td>\n    </tr>\n    <tr>\n      <th>347120</th>\n      <td>2023-06-22 16:30:00+07:00</td>\n      <td>543.148095</td>\n      <td>0.023529</td>\n      <td>0.235294</td>\n      <td>13.50130</td>\n      <td>100.135400</td>\n      <td>404.229601</td>\n      <td>ISL056</td>\n      <td>367.2727</td>\n      <td>2023-06-22</td>\n      <td>16</td>\n      <td>0.676193</td>\n      <td>0.742820</td>\n      <td>clear</td>\n      <td>Low cloud</td>\n      <td>non-midday</td>\n    </tr>\n    <tr>\n      <th>347121</th>\n      <td>2023-06-22 16:45:00+07:00</td>\n      <td>481.265865</td>\n      <td>0.023529</td>\n      <td>0.235294</td>\n      <td>13.50130</td>\n      <td>100.135400</td>\n      <td>333.382894</td>\n      <td>ISL056</td>\n      <td>311.9268</td>\n      <td>2023-06-22</td>\n      <td>16</td>\n      <td>0.648138</td>\n      <td>0.742820</td>\n      <td>clear</td>\n      <td>Low cloud</td>\n      <td>non-midday</td>\n    </tr>\n    <tr>\n      <th>347122</th>\n      <td>2023-06-22 17:00:00+07:00</td>\n      <td>417.664271</td>\n      <td>0.019608</td>\n      <td>0.243137</td>\n      <td>13.50130</td>\n      <td>100.135400</td>\n      <td>265.615033</td>\n      <td>ISL056</td>\n      <td>241.7198</td>\n      <td>2023-06-22</td>\n      <td>17</td>\n      <td>0.578742</td>\n      <td>0.742820</td>\n      <td>clear</td>\n      <td>Low cloud</td>\n      <td>non-midday</td>\n    </tr>\n  </tbody>\n</table>\n<p>347123 rows × 16 columns</p>\n</div>"
     },
     "execution_count": 4,
     "metadata": {},
     "output_type": "execute_result"
    }
   ],
   "source": [
    "lightgbm = pd.read_csv('exp_results/Ihat_lightgbm_v2_test_set.csv', parse_dates=['Datetime'], usecols=lambda x: x not in ['condition', 'hour_encode1','day','month'])\n",
    "lightgbm['k'] = lightgbm['I'] / lightgbm['Iclr']\n",
    "lightgbm['CI'] = lightgbm['CI']/255\n",
    "lightgbm['R'] = lightgbm['R']/255\n",
    "\n",
    "# create K_bar in each day and each site\n",
    "kmean = lightgbm[['site_name','Date','k']].groupby(by=[lightgbm.Date,'site_name']).mean(numeric_only=True)\n",
    "kmean = kmean.reset_index(level=1)\n",
    "kmean.reset_index(inplace=True)\n",
    "kmean = kmean.rename(columns={'index':'Date','k':'k_bar'})\n",
    "kmean = pd.merge(lightgbm,kmean,on=['Date','site_name'],how='left')\n",
    "kmean.index = lightgbm.index\n",
    "\n",
    "lightgbm['k_bar'] = kmean.k_bar\n",
    "lightgbm['sky_condition'] = lightgbm['k_bar'].apply(lambda x: 'cloudy' if x < 0.3 else ('partly_cloudy' if x < 0.6 else 'clear'))\n",
    "lightgbm['R_clusters'] = lightgbm['R'].apply(lambda x: 'Low cloud' if x < 0.3 else ('Medium cloud' if x < 0.6 else 'High cloud'))\n",
    "lightgbm['hour_clusters'] = lightgbm['hour'].apply(lambda x: 'midday' if 10 <= x <= 15 else 'non-midday')\n",
    "lightgbm"
   ]
  },
  {
   "cell_type": "code",
   "execution_count": 5,
   "metadata": {
    "ExecuteTime": {
     "end_time": "2024-02-18T07:39:30.110557Z",
     "start_time": "2024-02-18T07:39:29.625009Z"
    }
   },
   "outputs": [
    {
     "name": "stdout",
     "output_type": "stream",
     "text": [
      "RMSE midday clear =  139.78386667620913\n",
      "RMSE midday partly cloudy =  189.0837448081324\n",
      "RMSE midday cloudy =  203.82830784376728\n",
      "RMSE non-midday clear =  78.98069456466712\n",
      "RMSE non-midday partly cloudy =  96.22774894422673\n",
      "RMSE non-midday cloudy =  118.41907550917364\n",
      "\n",
      "overall RMSE, MAE\n",
      "RMSE =  132.43146811693327\n",
      "MAE =  89.88685176924565\n",
      "\n",
      "overall RMSE, MAE by hour_clusters\n",
      "RMSE midday =  157.47993395753204\n",
      "MAE midday =  111.67318148227707\n",
      "RMSE non-midday =  85.6141411952085\n",
      "MAE non-midday =  59.26075829702664\n",
      "\n",
      "overall RMSE, MAE by sky_condition\n",
      "RMSE clear =  118.36432781788507\n",
      "MAE clear =  78.84408417337099\n",
      "RMSE partly cloudy =  157.29171625318327\n",
      "MAE partly cloudy =  114.03571536444315\n",
      "RMSE cloudy =  173.54460632362475\n",
      "MAE cloudy =  114.28822574008205\n"
     ]
    }
   ],
   "source": [
    "# calculate RMSE of I and I_hat in 3 sky condition and 3 hour_clusters\n",
    "\n",
    "from sklearn.metrics import mean_squared_error, mean_absolute_error\n",
    "from math import sqrt\n",
    "\n",
    "lightgbm_midday_clear = lightgbm[(lightgbm['sky_condition'] == 'clear') & (lightgbm['hour_clusters'] == 'midday')]\n",
    "lightgbm_midday_partly_cloudy = lightgbm[(lightgbm['sky_condition'] == 'partly_cloudy') & (lightgbm['hour_clusters'] == 'midday')]\n",
    "lightgbm_midday_cloudy = lightgbm[(lightgbm['sky_condition'] == 'cloudy') & (lightgbm['hour_clusters'] == 'midday')]\n",
    "\n",
    "lightgbm_non_midday_clear = lightgbm[(lightgbm['sky_condition'] == 'clear') & (lightgbm['hour_clusters'] == 'non-midday')]\n",
    "lightgbm_non_midday_partly_cloudy = lightgbm[(lightgbm['sky_condition'] == 'partly_cloudy') & (lightgbm['hour_clusters'] == 'non-midday')]\n",
    "lightgbm_non_midday_cloudy = lightgbm[(lightgbm['sky_condition'] == 'cloudy') & (lightgbm['hour_clusters'] == 'non-midday')]\n",
    "\n",
    "rmse_lightgbm_midday_clear = sqrt(mean_squared_error(lightgbm_midday_clear['I'],lightgbm_midday_clear['I_hat']))\n",
    "rmse_lightgbm_midday_partly_cloudy = sqrt(mean_squared_error(lightgbm_midday_partly_cloudy['I'],lightgbm_midday_partly_cloudy['I_hat']))\n",
    "rmse_lightgbm_midday_cloudy = sqrt(mean_squared_error(lightgbm_midday_cloudy['I'],lightgbm_midday_cloudy['I_hat']))\n",
    "\n",
    "rmse_lightgbm_non_midday_clear = sqrt(mean_squared_error(lightgbm_non_midday_clear['I'],lightgbm_non_midday_clear['I_hat']))\n",
    "rmse_lightgbm_non_midday_partly_cloudy = sqrt(mean_squared_error(lightgbm_non_midday_partly_cloudy['I'],lightgbm_non_midday_partly_cloudy['I_hat']))\n",
    "rmse_lightgbm_non_midday_cloudy = sqrt(mean_squared_error(lightgbm_non_midday_cloudy['I'],lightgbm_non_midday_cloudy['I_hat']))\n",
    "\n",
    "# print RMSE of I and I_hat in 3 sky condition and 3 hour_clusters\n",
    "print('RMSE midday clear = ',rmse_lightgbm_midday_clear)\n",
    "print('RMSE midday partly cloudy = ',rmse_lightgbm_midday_partly_cloudy)\n",
    "print('RMSE midday cloudy = ',rmse_lightgbm_midday_cloudy)\n",
    "print('RMSE non-midday clear = ',rmse_lightgbm_non_midday_clear)\n",
    "print('RMSE non-midday partly cloudy = ',rmse_lightgbm_non_midday_partly_cloudy)\n",
    "print('RMSE non-midday cloudy = ',rmse_lightgbm_non_midday_cloudy)\n",
    "\n",
    "# overall RMSE, MAE\n",
    "rmse_lightgbm = sqrt(mean_squared_error(lightgbm['I'],lightgbm['I_hat']))\n",
    "mae_lightgbm = mean_absolute_error(lightgbm['I'],lightgbm['I_hat'])\n",
    "print()\n",
    "print('overall RMSE, MAE')\n",
    "\n",
    "print('RMSE = ',rmse_lightgbm)\n",
    "print('MAE = ',mae_lightgbm)\n",
    "\n",
    "# overall RMSE, MAE by hour_clusters\n",
    "rmse_lightgbm_midday = sqrt(mean_squared_error(lightgbm[lightgbm['hour_clusters'] == 'midday']['I'],lightgbm[lightgbm['hour_clusters'] == 'midday']['I_hat']))\n",
    "mae_lightgbm_midday = mean_absolute_error(lightgbm[lightgbm['hour_clusters'] == 'midday']['I'],lightgbm[lightgbm['hour_clusters'] == 'midday']['I_hat'])\n",
    "rmse_lightgbm_non_midday = sqrt(mean_squared_error(lightgbm[lightgbm['hour_clusters'] == 'non-midday']['I'],lightgbm[lightgbm['hour_clusters'] == 'non-midday']['I_hat']))\n",
    "mae_lightgbm_non_midday = mean_absolute_error(lightgbm[lightgbm['hour_clusters'] == 'non-midday']['I'],lightgbm[lightgbm['hour_clusters'] == 'non-midday']['I_hat'])\n",
    "print()\n",
    "print('overall RMSE, MAE by hour_clusters')\n",
    "\n",
    "print('RMSE midday = ',rmse_lightgbm_midday)\n",
    "print('MAE midday = ',mae_lightgbm_midday)\n",
    "print('RMSE non-midday = ',rmse_lightgbm_non_midday)\n",
    "print('MAE non-midday = ',mae_lightgbm_non_midday)\n",
    "\n",
    "# overall RMSE, MAE by sky_condition\n",
    "rmse_lightgbm_clear = sqrt(mean_squared_error(lightgbm[lightgbm['sky_condition'] == 'clear']['I'],lightgbm[lightgbm['sky_condition'] == 'clear']['I_hat']))\n",
    "mae_lightgbm_clear = mean_absolute_error(lightgbm[lightgbm['sky_condition'] == 'clear']['I'],lightgbm[lightgbm['sky_condition'] == 'clear']['I_hat'])\n",
    "rmse_lightgbm_partly_cloudy = sqrt(mean_squared_error(lightgbm[lightgbm['sky_condition'] == 'partly_cloudy']['I'],lightgbm[lightgbm['sky_condition'] == 'partly_cloudy']['I_hat']))\n",
    "mae_lightgbm_partly_cloudy = mean_absolute_error(lightgbm[lightgbm['sky_condition'] == 'partly_cloudy']['I'],lightgbm[lightgbm['sky_condition'] == 'partly_cloudy']['I_hat'])\n",
    "rmse_lightgbm_cloudy = sqrt(mean_squared_error(lightgbm[lightgbm['sky_condition'] == 'cloudy']['I'],lightgbm[lightgbm['sky_condition'] == 'cloudy']['I_hat']))\n",
    "mae_lightgbm_cloudy = mean_absolute_error(lightgbm[lightgbm['sky_condition'] == 'cloudy']['I'],lightgbm[lightgbm['sky_condition'] == 'cloudy']['I_hat'])\n",
    "\n",
    "print()\n",
    "print('overall RMSE, MAE by sky_condition')\n",
    "\n",
    "print('RMSE clear = ',rmse_lightgbm_clear)\n",
    "print('MAE clear = ',mae_lightgbm_clear)\n",
    "print('RMSE partly cloudy = ',rmse_lightgbm_partly_cloudy)\n",
    "print('MAE partly cloudy = ',mae_lightgbm_partly_cloudy)\n",
    "print('RMSE cloudy = ',rmse_lightgbm_cloudy)\n",
    "print('MAE cloudy = ',mae_lightgbm_cloudy)\n"
   ]
  },
  {
   "cell_type": "markdown",
   "metadata": {},
   "source": [
    "## Error metric of random forest model"
   ]
  },
  {
   "cell_type": "code",
   "execution_count": 6,
   "metadata": {
    "ExecuteTime": {
     "end_time": "2024-02-18T07:39:50.531398Z",
     "start_time": "2024-02-18T07:39:47.965494Z"
    }
   },
   "outputs": [
    {
     "data": {
      "text/plain": "                        Datetime        Iclr        CI         R      latt  \\\n0      2022-04-05 07:00:00+07:00  141.241660  0.090196  0.203922  14.00523   \n1      2022-04-05 07:15:00+07:00  209.518060  0.090196  0.203922  14.00523   \n2      2022-04-05 07:30:00+07:00  278.611744  0.141176  0.298039  14.00523   \n3      2022-04-05 07:45:00+07:00  347.292820  0.141176  0.298039  14.00523   \n4      2022-04-05 08:00:00+07:00  414.830234  0.172549  0.576471  14.00523   \n...                          ...         ...       ...       ...       ...   \n347118 2023-06-22 16:00:00+07:00  660.558000  0.023529  0.282353  13.50130   \n347119 2023-06-22 16:15:00+07:00  603.006077  0.023529  0.282353  13.50130   \n347120 2023-06-22 16:30:00+07:00  543.148095  0.023529  0.235294  13.50130   \n347121 2023-06-22 16:45:00+07:00  481.265865  0.023529  0.235294  13.50130   \n347122 2023-06-22 17:00:00+07:00  417.664271  0.019608  0.243137  13.50130   \n\n              long       I_hat site_name         I        Date  hour  \\\n0       100.519403  131.874370    ISL001  183.5975  2022-04-05     7   \n1       100.519403  171.974845    ISL001  240.5533  2022-04-05     7   \n2       100.519403  211.763328    ISL001  164.2464  2022-04-05     7   \n3       100.519403  271.764854    ISL001  176.0619  2022-04-05     7   \n4       100.519403  217.313182    ISL001  261.4042  2022-04-05     8   \n...            ...         ...       ...       ...         ...   ...   \n347118  100.135400  453.160119    ISL056  473.4280  2023-06-22    16   \n347119  100.135400  422.846866    ISL056  418.3324  2023-06-22    16   \n347120  100.135400  406.170295    ISL056  367.2727  2023-06-22    16   \n347121  100.135400  347.076506    ISL056  311.9268  2023-06-22    16   \n347122  100.135400  279.430583    ISL056  241.7198  2023-06-22    17   \n\n               k     k_bar sky_condition    R_clusters hour_clusters  \n0       1.299882  0.695748         clear     Low cloud    non-midday  \n1       1.148127  0.695748         clear     Low cloud    non-midday  \n2       0.589517  0.695748         clear     Low cloud    non-midday  \n3       0.506955  0.695748         clear     Low cloud    non-midday  \n4       0.630147  0.695748         clear  Medium cloud    non-midday  \n...          ...       ...           ...           ...           ...  \n347118  0.716709  0.742820         clear     Low cloud    non-midday  \n347119  0.693745  0.742820         clear     Low cloud    non-midday  \n347120  0.676193  0.742820         clear     Low cloud    non-midday  \n347121  0.648138  0.742820         clear     Low cloud    non-midday  \n347122  0.578742  0.742820         clear     Low cloud    non-midday  \n\n[347123 rows x 16 columns]",
      "text/html": "<div>\n<style scoped>\n    .dataframe tbody tr th:only-of-type {\n        vertical-align: middle;\n    }\n\n    .dataframe tbody tr th {\n        vertical-align: top;\n    }\n\n    .dataframe thead th {\n        text-align: right;\n    }\n</style>\n<table border=\"1\" class=\"dataframe\">\n  <thead>\n    <tr style=\"text-align: right;\">\n      <th></th>\n      <th>Datetime</th>\n      <th>Iclr</th>\n      <th>CI</th>\n      <th>R</th>\n      <th>latt</th>\n      <th>long</th>\n      <th>I_hat</th>\n      <th>site_name</th>\n      <th>I</th>\n      <th>Date</th>\n      <th>hour</th>\n      <th>k</th>\n      <th>k_bar</th>\n      <th>sky_condition</th>\n      <th>R_clusters</th>\n      <th>hour_clusters</th>\n    </tr>\n  </thead>\n  <tbody>\n    <tr>\n      <th>0</th>\n      <td>2022-04-05 07:00:00+07:00</td>\n      <td>141.241660</td>\n      <td>0.090196</td>\n      <td>0.203922</td>\n      <td>14.00523</td>\n      <td>100.519403</td>\n      <td>131.874370</td>\n      <td>ISL001</td>\n      <td>183.5975</td>\n      <td>2022-04-05</td>\n      <td>7</td>\n      <td>1.299882</td>\n      <td>0.695748</td>\n      <td>clear</td>\n      <td>Low cloud</td>\n      <td>non-midday</td>\n    </tr>\n    <tr>\n      <th>1</th>\n      <td>2022-04-05 07:15:00+07:00</td>\n      <td>209.518060</td>\n      <td>0.090196</td>\n      <td>0.203922</td>\n      <td>14.00523</td>\n      <td>100.519403</td>\n      <td>171.974845</td>\n      <td>ISL001</td>\n      <td>240.5533</td>\n      <td>2022-04-05</td>\n      <td>7</td>\n      <td>1.148127</td>\n      <td>0.695748</td>\n      <td>clear</td>\n      <td>Low cloud</td>\n      <td>non-midday</td>\n    </tr>\n    <tr>\n      <th>2</th>\n      <td>2022-04-05 07:30:00+07:00</td>\n      <td>278.611744</td>\n      <td>0.141176</td>\n      <td>0.298039</td>\n      <td>14.00523</td>\n      <td>100.519403</td>\n      <td>211.763328</td>\n      <td>ISL001</td>\n      <td>164.2464</td>\n      <td>2022-04-05</td>\n      <td>7</td>\n      <td>0.589517</td>\n      <td>0.695748</td>\n      <td>clear</td>\n      <td>Low cloud</td>\n      <td>non-midday</td>\n    </tr>\n    <tr>\n      <th>3</th>\n      <td>2022-04-05 07:45:00+07:00</td>\n      <td>347.292820</td>\n      <td>0.141176</td>\n      <td>0.298039</td>\n      <td>14.00523</td>\n      <td>100.519403</td>\n      <td>271.764854</td>\n      <td>ISL001</td>\n      <td>176.0619</td>\n      <td>2022-04-05</td>\n      <td>7</td>\n      <td>0.506955</td>\n      <td>0.695748</td>\n      <td>clear</td>\n      <td>Low cloud</td>\n      <td>non-midday</td>\n    </tr>\n    <tr>\n      <th>4</th>\n      <td>2022-04-05 08:00:00+07:00</td>\n      <td>414.830234</td>\n      <td>0.172549</td>\n      <td>0.576471</td>\n      <td>14.00523</td>\n      <td>100.519403</td>\n      <td>217.313182</td>\n      <td>ISL001</td>\n      <td>261.4042</td>\n      <td>2022-04-05</td>\n      <td>8</td>\n      <td>0.630147</td>\n      <td>0.695748</td>\n      <td>clear</td>\n      <td>Medium cloud</td>\n      <td>non-midday</td>\n    </tr>\n    <tr>\n      <th>...</th>\n      <td>...</td>\n      <td>...</td>\n      <td>...</td>\n      <td>...</td>\n      <td>...</td>\n      <td>...</td>\n      <td>...</td>\n      <td>...</td>\n      <td>...</td>\n      <td>...</td>\n      <td>...</td>\n      <td>...</td>\n      <td>...</td>\n      <td>...</td>\n      <td>...</td>\n      <td>...</td>\n    </tr>\n    <tr>\n      <th>347118</th>\n      <td>2023-06-22 16:00:00+07:00</td>\n      <td>660.558000</td>\n      <td>0.023529</td>\n      <td>0.282353</td>\n      <td>13.50130</td>\n      <td>100.135400</td>\n      <td>453.160119</td>\n      <td>ISL056</td>\n      <td>473.4280</td>\n      <td>2023-06-22</td>\n      <td>16</td>\n      <td>0.716709</td>\n      <td>0.742820</td>\n      <td>clear</td>\n      <td>Low cloud</td>\n      <td>non-midday</td>\n    </tr>\n    <tr>\n      <th>347119</th>\n      <td>2023-06-22 16:15:00+07:00</td>\n      <td>603.006077</td>\n      <td>0.023529</td>\n      <td>0.282353</td>\n      <td>13.50130</td>\n      <td>100.135400</td>\n      <td>422.846866</td>\n      <td>ISL056</td>\n      <td>418.3324</td>\n      <td>2023-06-22</td>\n      <td>16</td>\n      <td>0.693745</td>\n      <td>0.742820</td>\n      <td>clear</td>\n      <td>Low cloud</td>\n      <td>non-midday</td>\n    </tr>\n    <tr>\n      <th>347120</th>\n      <td>2023-06-22 16:30:00+07:00</td>\n      <td>543.148095</td>\n      <td>0.023529</td>\n      <td>0.235294</td>\n      <td>13.50130</td>\n      <td>100.135400</td>\n      <td>406.170295</td>\n      <td>ISL056</td>\n      <td>367.2727</td>\n      <td>2023-06-22</td>\n      <td>16</td>\n      <td>0.676193</td>\n      <td>0.742820</td>\n      <td>clear</td>\n      <td>Low cloud</td>\n      <td>non-midday</td>\n    </tr>\n    <tr>\n      <th>347121</th>\n      <td>2023-06-22 16:45:00+07:00</td>\n      <td>481.265865</td>\n      <td>0.023529</td>\n      <td>0.235294</td>\n      <td>13.50130</td>\n      <td>100.135400</td>\n      <td>347.076506</td>\n      <td>ISL056</td>\n      <td>311.9268</td>\n      <td>2023-06-22</td>\n      <td>16</td>\n      <td>0.648138</td>\n      <td>0.742820</td>\n      <td>clear</td>\n      <td>Low cloud</td>\n      <td>non-midday</td>\n    </tr>\n    <tr>\n      <th>347122</th>\n      <td>2023-06-22 17:00:00+07:00</td>\n      <td>417.664271</td>\n      <td>0.019608</td>\n      <td>0.243137</td>\n      <td>13.50130</td>\n      <td>100.135400</td>\n      <td>279.430583</td>\n      <td>ISL056</td>\n      <td>241.7198</td>\n      <td>2023-06-22</td>\n      <td>17</td>\n      <td>0.578742</td>\n      <td>0.742820</td>\n      <td>clear</td>\n      <td>Low cloud</td>\n      <td>non-midday</td>\n    </tr>\n  </tbody>\n</table>\n<p>347123 rows × 16 columns</p>\n</div>"
     },
     "execution_count": 6,
     "metadata": {},
     "output_type": "execute_result"
    }
   ],
   "source": [
    "rf = pd.read_csv('exp_results/Ihat_rf_test_set.csv', parse_dates=['Datetime'], usecols=lambda x: x not in ['condition', 'hour_encode1','day','month'])\n",
    "rf['k'] = rf['I'] / rf['Iclr']\n",
    "rf['CI'] = rf['CI']/255\n",
    "rf['R'] = rf['R']/255\n",
    "\n",
    "# create K_bar in each day and each site\n",
    "kmean = rf[['site_name','Date','k']].groupby(by=[rf.Date,'site_name']).mean(numeric_only=True)\n",
    "kmean = kmean.reset_index(level=1)\n",
    "kmean.reset_index(inplace=True)\n",
    "kmean = kmean.rename(columns={'index':'Date','k':'k_bar'})\n",
    "kmean = pd.merge(rf,kmean,on=['Date','site_name'],how='left')\n",
    "kmean.index = rf.index\n",
    "\n",
    "rf['k_bar'] = kmean.k_bar\n",
    "rf['sky_condition'] = rf['k_bar'].apply(lambda x: 'cloudy' if x < 0.3 else ('partly_cloudy' if x < 0.6 else 'clear'))\n",
    "rf['R_clusters'] = rf['R'].apply(lambda x: 'Low cloud' if x < 0.3 else ('Medium cloud' if x < 0.6 else 'High cloud'))\n",
    "rf['hour_clusters'] = rf['hour'].apply(lambda x: 'midday' if 10 <= x <= 15 else 'non-midday')\n",
    "rf"
   ]
  },
  {
   "cell_type": "code",
   "execution_count": 7,
   "metadata": {
    "ExecuteTime": {
     "end_time": "2024-02-18T07:39:52.142075Z",
     "start_time": "2024-02-18T07:39:51.666624Z"
    }
   },
   "outputs": [
    {
     "name": "stdout",
     "output_type": "stream",
     "text": [
      "RMSE midday clear =  140.5930403542265\n",
      "RMSE midday partly cloudy =  187.44061885235726\n",
      "RMSE midday cloudy =  218.19510338454614\n",
      "RMSE non-midday clear =  78.0701608126315\n",
      "RMSE non-midday partly cloudy =  95.78043296295964\n",
      "RMSE non-midday cloudy =  123.57399818590075\n",
      "overall RMSE, MAE\n",
      "\n",
      "overall RMSE, MAE\n",
      "RMSE =  132.6615850307227\n",
      "MAE =  89.44768513236735\n",
      "\n",
      "overall RMSE, MAE by hour_clusters\n",
      "RMSE midday =  158.0017769460379\n",
      "MAE midday =  111.64470507061544\n",
      "RMSE non-midday =  85.11819166940485\n",
      "MAE non-midday =  58.244264621069874\n",
      "\n",
      "overall RMSE, MAE by sky_condition\n",
      "RMSE clear =  118.67279651486217\n",
      "MAE clear =  78.52802998623916\n",
      "RMSE partly cloudy =  156.02392412256205\n",
      "MAE partly cloudy =  112.23676464310012\n",
      "RMSE cloudy =  184.88174444142868\n",
      "MAE cloudy =  123.75519101100062\n"
     ]
    }
   ],
   "source": [
    "# calculate RMSE of I and I_hat in 3 sky condition and 3 hour_clusters\n",
    "\n",
    "from sklearn.metrics import mean_squared_error, mean_absolute_error\n",
    "from math import sqrt\n",
    "\n",
    "rf_midday_clear = rf[(rf['sky_condition'] == 'clear') & (rf['hour_clusters'] == 'midday')]\n",
    "rf_midday_partly_cloudy = rf[(rf['sky_condition'] == 'partly_cloudy') & (rf['hour_clusters'] == 'midday')]\n",
    "rf_midday_cloudy = rf[(rf['sky_condition'] == 'cloudy') & (rf['hour_clusters'] == 'midday')]\n",
    "\n",
    "rf_non_midday_clear = rf[(rf['sky_condition'] == 'clear') & (rf['hour_clusters'] == 'non-midday')]\n",
    "rf_non_midday_partly_cloudy = rf[(rf['sky_condition'] == 'partly_cloudy') & (rf['hour_clusters'] == 'non-midday')]\n",
    "rf_non_midday_cloudy = rf[(rf['sky_condition'] == 'cloudy') & (rf['hour_clusters'] == 'non-midday')]\n",
    "\n",
    "rmse_rf_midday_clear = sqrt(mean_squared_error(rf_midday_clear['I'],rf_midday_clear['I_hat']))\n",
    "rmse_rf_midday_partly_cloudy = sqrt(mean_squared_error(rf_midday_partly_cloudy['I'],rf_midday_partly_cloudy['I_hat']))\n",
    "rmse_rf_midday_cloudy = sqrt(mean_squared_error(rf_midday_cloudy['I'],rf_midday_cloudy['I_hat']))\n",
    "\n",
    "rmse_rf_non_midday_clear = sqrt(mean_squared_error(rf_non_midday_clear['I'],rf_non_midday_clear['I_hat']))\n",
    "rmse_rf_non_midday_partly_cloudy = sqrt(mean_squared_error(rf_non_midday_partly_cloudy['I'],rf_non_midday_partly_cloudy['I_hat']))\n",
    "rmse_rf_non_midday_cloudy = sqrt(mean_squared_error(rf_non_midday_cloudy['I'],rf_non_midday_cloudy['I_hat']))\n",
    "\n",
    "# print RMSE of I and I_hat in 3 sky condition and 3 hour_clusters\n",
    "print('RMSE midday clear = ',rmse_rf_midday_clear)\n",
    "print('RMSE midday partly cloudy = ',rmse_rf_midday_partly_cloudy)\n",
    "print('RMSE midday cloudy = ',rmse_rf_midday_cloudy)\n",
    "print('RMSE non-midday clear = ',rmse_rf_non_midday_clear)\n",
    "print('RMSE non-midday partly cloudy = ',rmse_rf_non_midday_partly_cloudy)\n",
    "print('RMSE non-midday cloudy = ',rmse_rf_non_midday_cloudy)\n",
    "\n",
    "# overall RMSE, MAE\n",
    "print('overall RMSE, MAE')\n",
    "rmse_rf = sqrt(mean_squared_error(rf['I'],rf['I_hat']))\n",
    "mae_rf = mean_absolute_error(rf['I'],rf['I_hat'])\n",
    "print()\n",
    "\n",
    "print('overall RMSE, MAE')\n",
    "print('RMSE = ',rmse_rf)\n",
    "print('MAE = ',mae_rf)\n",
    "\n",
    "# overall RMSE, MAE by hour_clusters\n",
    "rmse_rf_midday = sqrt(mean_squared_error(rf[rf['hour_clusters'] == 'midday']['I'],rf[rf['hour_clusters'] == 'midday']['I_hat']))\n",
    "mae_rf_midday = mean_absolute_error(rf[rf['hour_clusters'] == 'midday']['I'],rf[rf['hour_clusters'] == 'midday']['I_hat'])\n",
    "rmse_rf_non_midday = sqrt(mean_squared_error(rf[rf['hour_clusters'] == 'non-midday']['I'],rf[rf['hour_clusters'] == 'non-midday']['I_hat']))\n",
    "mae_rf_non_midday = mean_absolute_error(rf[rf['hour_clusters'] == 'non-midday']['I'],rf[rf['hour_clusters'] == 'non-midday']['I_hat'])\n",
    "\n",
    "print()\n",
    "print('overall RMSE, MAE by hour_clusters')\n",
    "print('RMSE midday = ',rmse_rf_midday)\n",
    "print('MAE midday = ',mae_rf_midday)\n",
    "print('RMSE non-midday = ',rmse_rf_non_midday)\n",
    "print('MAE non-midday = ',mae_rf_non_midday)\n",
    "\n",
    "# overall RMSE, MAE by sky_condition\n",
    "rmse_rf_clear = sqrt(mean_squared_error(rf[rf['sky_condition'] == 'clear']['I'],rf[rf['sky_condition'] == 'clear']['I_hat']))\n",
    "mae_rf_clear = mean_absolute_error(rf[rf['sky_condition'] == 'clear']['I'],rf[rf['sky_condition'] == 'clear']['I_hat'])\n",
    "rmse_rf_partly_cloudy = sqrt(mean_squared_error(rf[rf['sky_condition'] == 'partly_cloudy']['I'],rf[rf['sky_condition'] == 'partly_cloudy']['I_hat']))\n",
    "mae_rf_partly_cloudy = mean_absolute_error(rf[rf['sky_condition'] == 'partly_cloudy']['I'],rf[rf['sky_condition'] == 'partly_cloudy']['I_hat'])\n",
    "rmse_rf_cloudy = sqrt(mean_squared_error(rf[rf['sky_condition'] == 'cloudy']['I'],rf[rf['sky_condition'] == 'cloudy']['I_hat']))\n",
    "mae_rf_cloudy = mean_absolute_error(rf[rf['sky_condition'] == 'cloudy']['I'],rf[rf['sky_condition'] == 'cloudy']['I_hat'])\n",
    "\n",
    "print()\n",
    "print('overall RMSE, MAE by sky_condition')\n",
    "print('RMSE clear = ',rmse_rf_clear)\n",
    "print('MAE clear = ',mae_rf_clear)\n",
    "print('RMSE partly cloudy = ',rmse_rf_partly_cloudy)\n",
    "print('MAE partly cloudy = ',mae_rf_partly_cloudy)\n",
    "print('RMSE cloudy = ',rmse_rf_cloudy)\n",
    "print('MAE cloudy = ',mae_rf_cloudy)\n"
   ]
  },
  {
   "cell_type": "markdown",
   "metadata": {},
   "source": [
    "## Create table of all performance"
   ]
  },
  {
   "cell_type": "code",
   "execution_count": 8,
   "metadata": {
    "ExecuteTime": {
     "end_time": "2024-02-18T07:39:54.213074Z",
     "start_time": "2024-02-18T07:39:54.208714Z"
    }
   },
   "outputs": [
    {
     "data": {
      "text/plain": "          Model        RMSE        MAE\n0     ExtraTree  134.174067  90.144303\n1      LightGBM  132.431468  89.886852\n2  RandomForest  132.661585  89.447685",
      "text/html": "<div>\n<style scoped>\n    .dataframe tbody tr th:only-of-type {\n        vertical-align: middle;\n    }\n\n    .dataframe tbody tr th {\n        vertical-align: top;\n    }\n\n    .dataframe thead th {\n        text-align: right;\n    }\n</style>\n<table border=\"1\" class=\"dataframe\">\n  <thead>\n    <tr style=\"text-align: right;\">\n      <th></th>\n      <th>Model</th>\n      <th>RMSE</th>\n      <th>MAE</th>\n    </tr>\n  </thead>\n  <tbody>\n    <tr>\n      <th>0</th>\n      <td>ExtraTree</td>\n      <td>134.174067</td>\n      <td>90.144303</td>\n    </tr>\n    <tr>\n      <th>1</th>\n      <td>LightGBM</td>\n      <td>132.431468</td>\n      <td>89.886852</td>\n    </tr>\n    <tr>\n      <th>2</th>\n      <td>RandomForest</td>\n      <td>132.661585</td>\n      <td>89.447685</td>\n    </tr>\n  </tbody>\n</table>\n</div>"
     },
     "execution_count": 8,
     "metadata": {},
     "output_type": "execute_result"
    }
   ],
   "source": [
    "# create table of Overall performance\n",
    "overall = pd.DataFrame({'Model':['ExtraTree','LightGBM','RandomForest'],'RMSE':[rmse_et,rmse_lightgbm,rmse_rf],'MAE':[mae_et,mae_lightgbm,mae_rf]})\n",
    "overall"
   ]
  },
  {
   "cell_type": "code",
   "execution_count": 9,
   "metadata": {
    "ExecuteTime": {
     "end_time": "2024-02-18T07:39:54.894055Z",
     "start_time": "2024-02-18T07:39:54.879906Z"
    }
   },
   "outputs": [
    {
     "data": {
      "text/plain": "          Model  RMSE midday  RMSE non-midday\n0     ExtraTree   159.814841        86.058149\n1      LightGBM   157.479934        85.614141\n2  RandomForest   158.001777        85.118192",
      "text/html": "<div>\n<style scoped>\n    .dataframe tbody tr th:only-of-type {\n        vertical-align: middle;\n    }\n\n    .dataframe tbody tr th {\n        vertical-align: top;\n    }\n\n    .dataframe thead th {\n        text-align: right;\n    }\n</style>\n<table border=\"1\" class=\"dataframe\">\n  <thead>\n    <tr style=\"text-align: right;\">\n      <th></th>\n      <th>Model</th>\n      <th>RMSE midday</th>\n      <th>RMSE non-midday</th>\n    </tr>\n  </thead>\n  <tbody>\n    <tr>\n      <th>0</th>\n      <td>ExtraTree</td>\n      <td>159.814841</td>\n      <td>86.058149</td>\n    </tr>\n    <tr>\n      <th>1</th>\n      <td>LightGBM</td>\n      <td>157.479934</td>\n      <td>85.614141</td>\n    </tr>\n    <tr>\n      <th>2</th>\n      <td>RandomForest</td>\n      <td>158.001777</td>\n      <td>85.118192</td>\n    </tr>\n  </tbody>\n</table>\n</div>"
     },
     "execution_count": 9,
     "metadata": {},
     "output_type": "execute_result"
    }
   ],
   "source": [
    "# create table of split by hour_clusters rmse\n",
    "hour_clusters = pd.DataFrame({'Model':['ExtraTree','LightGBM','RandomForest'],'RMSE midday':[rmse_et_midday,rmse_lightgbm_midday,rmse_rf_midday],'RMSE non-midday':[rmse_et_non_midday,rmse_lightgbm_non_midday,rmse_rf_non_midday]})\n",
    "hour_clusters"
   ]
  },
  {
   "cell_type": "code",
   "execution_count": 10,
   "metadata": {
    "ExecuteTime": {
     "end_time": "2024-02-18T07:39:55.492641Z",
     "start_time": "2024-02-18T07:39:55.487921Z"
    }
   },
   "outputs": [
    {
     "data": {
      "text/plain": "          Model  MAE midday  MAE non-midday\n0     ExtraTree  112.493926       58.726361\n1      LightGBM  111.673181       59.260758\n2  RandomForest  111.644705       58.244265",
      "text/html": "<div>\n<style scoped>\n    .dataframe tbody tr th:only-of-type {\n        vertical-align: middle;\n    }\n\n    .dataframe tbody tr th {\n        vertical-align: top;\n    }\n\n    .dataframe thead th {\n        text-align: right;\n    }\n</style>\n<table border=\"1\" class=\"dataframe\">\n  <thead>\n    <tr style=\"text-align: right;\">\n      <th></th>\n      <th>Model</th>\n      <th>MAE midday</th>\n      <th>MAE non-midday</th>\n    </tr>\n  </thead>\n  <tbody>\n    <tr>\n      <th>0</th>\n      <td>ExtraTree</td>\n      <td>112.493926</td>\n      <td>58.726361</td>\n    </tr>\n    <tr>\n      <th>1</th>\n      <td>LightGBM</td>\n      <td>111.673181</td>\n      <td>59.260758</td>\n    </tr>\n    <tr>\n      <th>2</th>\n      <td>RandomForest</td>\n      <td>111.644705</td>\n      <td>58.244265</td>\n    </tr>\n  </tbody>\n</table>\n</div>"
     },
     "execution_count": 10,
     "metadata": {},
     "output_type": "execute_result"
    }
   ],
   "source": [
    "# create table of split by hour_clusters mae\n",
    "hour_clusters = pd.DataFrame({'Model':['ExtraTree','LightGBM','RandomForest'],'MAE midday':[mae_et_midday,mae_lightgbm_midday,mae_rf_midday],'MAE non-midday':[mae_et_non_midday,mae_lightgbm_non_midday,mae_rf_non_midday]})\n",
    "hour_clusters"
   ]
  },
  {
   "cell_type": "code",
   "execution_count": 11,
   "metadata": {
    "ExecuteTime": {
     "end_time": "2024-02-18T07:39:56.000211Z",
     "start_time": "2024-02-18T07:39:55.995836Z"
    }
   },
   "outputs": [
    {
     "data": {
      "text/plain": "          Model  RMSE clear  RMSE partly cloudy  RMSE cloudy\n0     ExtraTree  120.048729          157.242047   191.021527\n1      LightGBM  118.364328          157.291716   173.544606\n2  RandomForest  118.672797          156.023924   184.881744",
      "text/html": "<div>\n<style scoped>\n    .dataframe tbody tr th:only-of-type {\n        vertical-align: middle;\n    }\n\n    .dataframe tbody tr th {\n        vertical-align: top;\n    }\n\n    .dataframe thead th {\n        text-align: right;\n    }\n</style>\n<table border=\"1\" class=\"dataframe\">\n  <thead>\n    <tr style=\"text-align: right;\">\n      <th></th>\n      <th>Model</th>\n      <th>RMSE clear</th>\n      <th>RMSE partly cloudy</th>\n      <th>RMSE cloudy</th>\n    </tr>\n  </thead>\n  <tbody>\n    <tr>\n      <th>0</th>\n      <td>ExtraTree</td>\n      <td>120.048729</td>\n      <td>157.242047</td>\n      <td>191.021527</td>\n    </tr>\n    <tr>\n      <th>1</th>\n      <td>LightGBM</td>\n      <td>118.364328</td>\n      <td>157.291716</td>\n      <td>173.544606</td>\n    </tr>\n    <tr>\n      <th>2</th>\n      <td>RandomForest</td>\n      <td>118.672797</td>\n      <td>156.023924</td>\n      <td>184.881744</td>\n    </tr>\n  </tbody>\n</table>\n</div>"
     },
     "execution_count": 11,
     "metadata": {},
     "output_type": "execute_result"
    }
   ],
   "source": [
    "# create table of split by sky_condition rmse\n",
    "sky_condition = pd.DataFrame({'Model':['ExtraTree','LightGBM','RandomForest'],'RMSE clear':[rmse_et_clear,rmse_lightgbm_clear,rmse_rf_clear],'RMSE partly cloudy':[rmse_et_partly_cloudy,rmse_lightgbm_partly_cloudy,rmse_rf_partly_cloudy],'RMSE cloudy':[rmse_et_cloudy,rmse_lightgbm_cloudy,rmse_rf_cloudy]})\n",
    "sky_condition"
   ]
  },
  {
   "cell_type": "code",
   "execution_count": 12,
   "metadata": {
    "ExecuteTime": {
     "end_time": "2024-02-18T07:39:56.470291Z",
     "start_time": "2024-02-18T07:39:56.464173Z"
    }
   },
   "outputs": [
    {
     "data": {
      "text/plain": "          Model  MAE clear  MAE partly cloudy  MAE cloudy\n0     ExtraTree  79.304834         112.518052  126.514324\n1      LightGBM  78.844084         114.035715  114.288226\n2  RandomForest  78.528030         112.236765  123.755191",
      "text/html": "<div>\n<style scoped>\n    .dataframe tbody tr th:only-of-type {\n        vertical-align: middle;\n    }\n\n    .dataframe tbody tr th {\n        vertical-align: top;\n    }\n\n    .dataframe thead th {\n        text-align: right;\n    }\n</style>\n<table border=\"1\" class=\"dataframe\">\n  <thead>\n    <tr style=\"text-align: right;\">\n      <th></th>\n      <th>Model</th>\n      <th>MAE clear</th>\n      <th>MAE partly cloudy</th>\n      <th>MAE cloudy</th>\n    </tr>\n  </thead>\n  <tbody>\n    <tr>\n      <th>0</th>\n      <td>ExtraTree</td>\n      <td>79.304834</td>\n      <td>112.518052</td>\n      <td>126.514324</td>\n    </tr>\n    <tr>\n      <th>1</th>\n      <td>LightGBM</td>\n      <td>78.844084</td>\n      <td>114.035715</td>\n      <td>114.288226</td>\n    </tr>\n    <tr>\n      <th>2</th>\n      <td>RandomForest</td>\n      <td>78.528030</td>\n      <td>112.236765</td>\n      <td>123.755191</td>\n    </tr>\n  </tbody>\n</table>\n</div>"
     },
     "execution_count": 12,
     "metadata": {},
     "output_type": "execute_result"
    }
   ],
   "source": [
    "# create table of split by sky_condition mae\n",
    "sky_condition = pd.DataFrame({'Model':['ExtraTree','LightGBM','RandomForest'],'MAE clear':[mae_et_clear,mae_lightgbm_clear,mae_rf_clear],'MAE partly cloudy':[mae_et_partly_cloudy,mae_lightgbm_partly_cloudy,mae_rf_partly_cloudy],'MAE cloudy':[mae_et_cloudy,mae_lightgbm_cloudy,mae_rf_cloudy]})\n",
    "sky_condition"
   ]
  },
  {
   "cell_type": "code",
   "execution_count": 13,
   "metadata": {
    "ExecuteTime": {
     "end_time": "2024-02-18T07:39:57.077784Z",
     "start_time": "2024-02-18T07:39:57.047779Z"
    }
   },
   "outputs": [
    {
     "data": {
      "text/plain": "          Model  RMSE midday clear  RMSE midday partly cloudy  \\\n0     ExtraTree         142.255153                 188.784951   \n1      LightGBM         139.783867                 189.083745   \n2  RandomForest         140.593040                 187.440619   \n\n   RMSE midday cloudy  RMSE morning&evening clear  \\\n0          226.363163                   78.894206   \n1          203.828308                   78.980695   \n2          218.195103                   78.070161   \n\n   RMSE morning&evening partly cloudy  RMSE morning&evening cloudy  \n0                           96.855140                   125.359426  \n1                           96.227749                   118.419076  \n2                           95.780433                   123.573998  ",
      "text/html": "<div>\n<style scoped>\n    .dataframe tbody tr th:only-of-type {\n        vertical-align: middle;\n    }\n\n    .dataframe tbody tr th {\n        vertical-align: top;\n    }\n\n    .dataframe thead th {\n        text-align: right;\n    }\n</style>\n<table border=\"1\" class=\"dataframe\">\n  <thead>\n    <tr style=\"text-align: right;\">\n      <th></th>\n      <th>Model</th>\n      <th>RMSE midday clear</th>\n      <th>RMSE midday partly cloudy</th>\n      <th>RMSE midday cloudy</th>\n      <th>RMSE morning&amp;evening clear</th>\n      <th>RMSE morning&amp;evening partly cloudy</th>\n      <th>RMSE morning&amp;evening cloudy</th>\n    </tr>\n  </thead>\n  <tbody>\n    <tr>\n      <th>0</th>\n      <td>ExtraTree</td>\n      <td>142.255153</td>\n      <td>188.784951</td>\n      <td>226.363163</td>\n      <td>78.894206</td>\n      <td>96.855140</td>\n      <td>125.359426</td>\n    </tr>\n    <tr>\n      <th>1</th>\n      <td>LightGBM</td>\n      <td>139.783867</td>\n      <td>189.083745</td>\n      <td>203.828308</td>\n      <td>78.980695</td>\n      <td>96.227749</td>\n      <td>118.419076</td>\n    </tr>\n    <tr>\n      <th>2</th>\n      <td>RandomForest</td>\n      <td>140.593040</td>\n      <td>187.440619</td>\n      <td>218.195103</td>\n      <td>78.070161</td>\n      <td>95.780433</td>\n      <td>123.573998</td>\n    </tr>\n  </tbody>\n</table>\n</div>"
     },
     "execution_count": 13,
     "metadata": {},
     "output_type": "execute_result"
    }
   ],
   "source": [
    "# create table of split by sky_condition and hour_clusters rmse\n",
    "sky_condition_hour_clusters = pd.DataFrame({'Model':['ExtraTree','LightGBM','RandomForest'],'RMSE midday clear':[rmse_et_midday_clear,rmse_lightgbm_midday_clear,rmse_rf_midday_clear],'RMSE midday partly cloudy':[rmse_et_midday_partly_cloudy,rmse_lightgbm_midday_partly_cloudy,rmse_rf_midday_partly_cloudy],'RMSE midday cloudy':[rmse_et_midday_cloudy,rmse_lightgbm_midday_cloudy,rmse_rf_midday_cloudy],'RMSE morning&evening clear':[rmse_et_non_midday_clear,rmse_lightgbm_non_midday_clear,rmse_rf_non_midday_clear],'RMSE morning&evening partly cloudy':[rmse_et_non_midday_partly_cloudy,rmse_lightgbm_non_midday_partly_cloudy,rmse_rf_non_midday_partly_cloudy],'RMSE morning&evening cloudy':[rmse_et_non_midday_cloudy,rmse_lightgbm_non_midday_cloudy,rmse_rf_non_midday_cloudy]})\n",
    "sky_condition_hour_clusters"
   ]
  },
  {
   "cell_type": "code",
   "execution_count": null,
   "metadata": {},
   "outputs": [],
   "source": []
  }
 ],
 "metadata": {
  "kernelspec": {
   "display_name": "solarmap",
   "language": "python",
   "name": "python3"
  },
  "language_info": {
   "codemirror_mode": {
    "name": "ipython",
    "version": 3
   },
   "file_extension": ".py",
   "mimetype": "text/x-python",
   "name": "python",
   "nbconvert_exporter": "python",
   "pygments_lexer": "ipython3",
   "version": "3.9.6"
  }
 },
 "nbformat": 4,
 "nbformat_minor": 2
}
